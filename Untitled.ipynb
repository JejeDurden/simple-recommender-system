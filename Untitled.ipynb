{
 "cells": [
  {
   "cell_type": "code",
   "execution_count": 1,
   "metadata": {},
   "outputs": [
    {
     "name": "stdout",
     "output_type": "stream",
     "text": [
      "   id                    nom  code_postal        quartier  \\\n",
      "0   3             L'Antidote        75005  Quartier Latin   \n",
      "1   6                L'Adada        75014    Montparnasse   \n",
      "2   8  La Mercerie Oberkampf        75011       Oberkampf   \n",
      "\n",
      "                                         description  \\\n",
      "0  Localisé dans le [quartier Latin](https://www....   \n",
      "1  Attention, pas d'arrivée après 19h30 dans cet ...   \n",
      "2  Situé dans la trépidante [Rue Oberkampf](https...   \n",
      "\n",
      "                                      infos_ambiance rental_room_category  \n",
      "0  Rock à l'étage, electro, funk, house et éclect...                 None  \n",
      "1                   Bonne ambiance, musique générale                 None  \n",
      "2                                                                    None  \n"
     ]
    }
   ],
   "source": [
    "import MySQLdb\n",
    "import pandas as pd \n",
    "import numpy as np\n",
    "\n",
    "conn = MySQLdb.connect(host=\"127.0.0.1\", user=\"root\", db=\"privateaser_dev\")\n",
    "\n",
    "SQL_Query = pd.read_sql_query(\"SELECT id, nom, code_postal, quartier, description, infos_ambiance, universe, rental_room_category from etablissements WHERE etablissements.status IN ('active', 'active_without_sea', 'scrapped')\", conn)\n",
    "df = pd.DataFrame(SQL_Query, columns=['id', 'nom', 'code_postal', 'quartier', 'description', 'infos_ambiance', 'rental_room_category'])\n",
    "\n",
    "conn.close()\n",
    "\n",
    "print(df.head(3))\n",
    "\n"
   ]
  },
  {
   "cell_type": "code",
   "execution_count": 15,
   "metadata": {},
   "outputs": [
    {
     "name": "stdout",
     "output_type": "stream",
     "text": [
      "0     Quartier Latin Localisé dans le [quartier Lat...\n",
      "1     Montparnasse Attention, pas d'arrivée après 1...\n",
      "2     Oberkampf Situé dans la trépidante [Rue Oberk...\n",
      "Name: soup, dtype: object\n"
     ]
    }
   ],
   "source": [
    "# Create a string about to be analyzed later\n",
    "def create_soup(x):\n",
    "    string = \" \"\n",
    "    \n",
    "    if x['quartier'] is not None:\n",
    "        string += x['quartier']\n",
    "    \n",
    "    if x['description'] is not None:\n",
    "        string += ' ' + x['description']\n",
    "    \n",
    "    if x['infos_ambiance'] is not None:\n",
    "        string += ' ' + x['infos_ambiance']\n",
    "        \n",
    "    if x['rental_room_category'] is not None:\n",
    "        string += ' ' + x['rental_room_category']\n",
    "    \n",
    "    return string\n",
    "\n",
    "\n",
    "df['soup'] = df.apply(create_soup, axis=1)\n",
    "\n",
    "print(df['soup'].head(3))"
   ]
  },
  {
   "cell_type": "code",
   "execution_count": 16,
   "metadata": {},
   "outputs": [],
   "source": [
    "from sklearn.feature_extraction.text import CountVectorizer\n",
    "\n",
    "count = CountVectorizer(stop_words=[\"un\", \"une\", \"les\", \"de\", \"le\", \"la\", \"du\", \"au\", \"il\", \"à\"])\n",
    "count_matrix = count.fit_transform(df['soup'])"
   ]
  },
  {
   "cell_type": "code",
   "execution_count": 17,
   "metadata": {},
   "outputs": [],
   "source": [
    "from sklearn.metrics.pairwise import cosine_similarity\n",
    "\n",
    "cosine_sim = cosine_similarity(count_matrix, count_matrix)"
   ]
  },
  {
   "cell_type": "code",
   "execution_count": 18,
   "metadata": {},
   "outputs": [
    {
     "name": "stdout",
     "output_type": "stream",
     "text": [
      "id\n",
      "3            0\n",
      "6            1\n",
      "8            2\n",
      "11           3\n",
      "15           4\n",
      "18           5\n",
      "23           6\n",
      "26           7\n",
      "31           8\n",
      "32           9\n",
      "38          10\n",
      "46          11\n",
      "47          12\n",
      "48          13\n",
      "53          14\n",
      "58          15\n",
      "61          16\n",
      "66          17\n",
      "68          18\n",
      "70          19\n",
      "71          20\n",
      "72          21\n",
      "73          22\n",
      "74          23\n",
      "77          24\n",
      "78          25\n",
      "79          26\n",
      "87          27\n",
      "89          28\n",
      "90          29\n",
      "         ...  \n",
      "16317    10517\n",
      "16318    10518\n",
      "16320    10519\n",
      "16321    10520\n",
      "16327    10521\n",
      "16328    10522\n",
      "16329    10523\n",
      "16331    10524\n",
      "16332    10525\n",
      "16333    10526\n",
      "16334    10527\n",
      "16335    10528\n",
      "16359    10529\n",
      "16361    10530\n",
      "16370    10531\n",
      "16379    10532\n",
      "16384    10533\n",
      "16387    10534\n",
      "16389    10535\n",
      "16399    10536\n",
      "16400    10537\n",
      "16411    10538\n",
      "16418    10539\n",
      "16426    10540\n",
      "16442    10541\n",
      "16444    10542\n",
      "16446    10543\n",
      "16450    10544\n",
      "16451    10545\n",
      "16452    10546\n",
      "Length: 10547, dtype: int64\n"
     ]
    }
   ],
   "source": [
    "# List for results\n",
    "indices = pd.Series(df.index, index=df['id']).drop_duplicates()\n",
    "print(indices)"
   ]
  },
  {
   "cell_type": "code",
   "execution_count": 19,
   "metadata": {},
   "outputs": [],
   "source": [
    "def get_recommendations(id, cosine_sim=cosine_sim):\n",
    "    # Get the index of the venue that matches the id\n",
    "    idx = indices[id]\n",
    "\n",
    "    # Get the pairwsie similarity scores of all movies with that venue\n",
    "    sim_scores = list(enumerate(cosine_sim[idx]))\n",
    "\n",
    "    # Sort the venues based on the similarity scores\n",
    "    sim_scores = sorted(sim_scores, key=lambda x: x[1], reverse=True)\n",
    "\n",
    "    # Get the scores of the 5 most similar movies\n",
    "    sim_scores = sim_scores[1:6]\n",
    "\n",
    "    # Get the movie indices\n",
    "    venue_indices = [i[0] for i in sim_scores]\n",
    "\n",
    "    # Return the top 10 most similar movies\n",
    "    return df['nom'].iloc[venue_indices]"
   ]
  },
  {
   "cell_type": "code",
   "execution_count": 22,
   "metadata": {},
   "outputs": [
    {
     "data": {
      "text/plain": [
       "6118          La Revanche - Bistrot ludique\n",
       "525                               L'Apérock\n",
       "1515    Sofitel Paris Arc de Triomphe - Bar\n",
       "723                         L'Armagnac Café\n",
       "1432                             Le HasBeen\n",
       "Name: nom, dtype: object"
      ]
     },
     "execution_count": 22,
     "metadata": {},
     "output_type": "execute_result"
    }
   ],
   "source": [
    "get_recommendations(252, cosine_sim)"
   ]
  },
  {
   "cell_type": "code",
   "execution_count": null,
   "metadata": {},
   "outputs": [],
   "source": []
  },
  {
   "cell_type": "code",
   "execution_count": null,
   "metadata": {},
   "outputs": [],
   "source": []
  }
 ],
 "metadata": {
  "kernelspec": {
   "display_name": "Python 3",
   "language": "python",
   "name": "python3"
  },
  "language_info": {
   "codemirror_mode": {
    "name": "ipython",
    "version": 3
   },
   "file_extension": ".py",
   "mimetype": "text/x-python",
   "name": "python",
   "nbconvert_exporter": "python",
   "pygments_lexer": "ipython3",
   "version": "3.7.3"
  }
 },
 "nbformat": 4,
 "nbformat_minor": 2
}
